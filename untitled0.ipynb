{
  "nbformat": 4,
  "nbformat_minor": 0,
  "metadata": {
    "colab": {
      "provenance": []
    },
    "kernelspec": {
      "name": "python3",
      "display_name": "Python 3"
    },
    "language_info": {
      "name": "python"
    }
  },
  "cells": [
    {
      "cell_type": "code",
      "execution_count": null,
      "metadata": {
        "id": "9iR5ptHxjRYM"
      },
      "outputs": [],
      "source": [
        "Q1=26295929"
      ]
    },
    {
      "cell_type": "code",
      "source": [
        "Q2=27668242\n"
      ],
      "metadata": {
        "id": "yEAClGTxjTXm"
      },
      "execution_count": null,
      "outputs": []
    },
    {
      "cell_type": "code",
      "source": [
        "Q3=27002293"
      ],
      "metadata": {
        "id": "IIuuDoLAjTrg"
      },
      "execution_count": null,
      "outputs": []
    },
    {
      "cell_type": "code",
      "source": [
        "Q4=28347871"
      ],
      "metadata": {
        "id": "YtJjDTpIkM7Z"
      },
      "execution_count": null,
      "outputs": []
    },
    {
      "cell_type": "code",
      "source": [
        "acc_Q1=Q1\n",
        "print(acc_Q1)"
      ],
      "metadata": {
        "colab": {
          "base_uri": "https://localhost:8080/"
        },
        "id": "rLPMQWVukXwy",
        "outputId": "b968f47d-ce35-43c9-fb21-b0e47933e59a"
      },
      "execution_count": null,
      "outputs": [
        {
          "output_type": "stream",
          "name": "stdout",
          "text": [
            "26295929\n"
          ]
        }
      ]
    },
    {
      "cell_type": "code",
      "source": [
        "acc_Q2=Q1+Q2\n",
        "print(acc_Q2)"
      ],
      "metadata": {
        "colab": {
          "base_uri": "https://localhost:8080/"
        },
        "id": "AdNOJM78khua",
        "outputId": "673f657c-0859-418f-9313-2e4da96d8d95"
      },
      "execution_count": null,
      "outputs": [
        {
          "output_type": "stream",
          "name": "stdout",
          "text": [
            "53964171\n"
          ]
        }
      ]
    },
    {
      "cell_type": "code",
      "source": [
        "acc_Q3=Q1+Q2+Q3\n",
        "print(acc_Q3)"
      ],
      "metadata": {
        "colab": {
          "base_uri": "https://localhost:8080/"
        },
        "id": "dg4s1uSPkpKi",
        "outputId": "d64d667f-a27e-4998-9996-25c0801cc9e0"
      },
      "execution_count": null,
      "outputs": [
        {
          "output_type": "stream",
          "name": "stdout",
          "text": [
            "80966464\n"
          ]
        }
      ]
    },
    {
      "cell_type": "code",
      "source": [
        "acc_Q4=Q1+Q2+Q3+Q4\n",
        "print(acc_Q4)"
      ],
      "metadata": {
        "colab": {
          "base_uri": "https://localhost:8080/"
        },
        "id": "I6_NYUoykzXy",
        "outputId": "1ca4c567-134f-420f-9b67-c56c11eff189"
      },
      "execution_count": null,
      "outputs": [
        {
          "output_type": "stream",
          "name": "stdout",
          "text": [
            "109314335\n"
          ]
        }
      ]
    },
    {
      "cell_type": "code",
      "source": [],
      "metadata": {
        "id": "I1clM3puk7pp"
      },
      "execution_count": null,
      "outputs": []
    }
  ]
}